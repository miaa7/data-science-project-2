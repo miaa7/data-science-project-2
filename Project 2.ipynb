{
 "cells": [
  {
   "cell_type": "markdown",
   "metadata": {},
   "source": [
    "<div style=\"direction:rtl; text-align:right\">\n",
    "\n",
    "# المشروع الثاني: كم دراجة هوائية سيتم استئجارها خلال الشهر القادم ؟"
   ]
  },
  {
   "cell_type": "markdown",
   "metadata": {},
   "source": [
    "<div style=\"direction:rtl; text-align:right\">\n",
    "أهلاً بكم في المشروع الثاني من علم البيانات. في هذا المشروع، سنكتشف سوية بيانات فريدة من نوعها وهي بيانات استئجار الدراجات الهوائية في مدينة واشنطن دي سي عاصمة الولايات المتحدة الأمريكية. يهدف هذا المشروع إلى التعمق في خطوات تحليل البيانات. الهدف من المشروع هو أولاً فهم البيانات ومن ثم محاولة نمذجة البيانات من خلال توقع كم دراجة هوائية سيتم استئجارها خلال الشهر القادم وذلك باستخدام بيانات السنين السابقة. البيانات موجودة بالكامل في موقع كاقل."
   ]
  },
  {
   "cell_type": "markdown",
   "metadata": {},
   "source": [
    "https://www.kaggle.com/c/bike-sharing-demand/data"
   ]
  },
  {
   "cell_type": "markdown",
   "metadata": {},
   "source": [
    "<div style=\"direction:rtl; text-align:right\">\n",
    "في هذا الدرس، سوف نعمل الآتي: <br>\n",
    "- قراءة البيانات <br>\n",
    "- تنظيف وتنقيح البيانات <br>\n",
    "- استكشاف البيانات <br>\n",
    "- نمذجة البيانات لتوقع عدد مرات الإيجار"
   ]
  },
  {
   "cell_type": "markdown",
   "metadata": {},
   "source": [
    "<div style=\"direction:rtl; text-align:right\">\n",
    "ملاحظة: عليك تعديل الخانات التي يوجد فيها الكود أدناه قبل تسليم المشروع. جميع الخانات الأخرى يجب ان تبقى كما هي بدون أي \n",
    "تعديل.\n",
    "\n",
    "```\n",
    "############################\n",
    "# عليك تعديل هذه الخانة قبل تسليم المشروع\n",
    "# YOU HAVE TO EDIT THIS CELLL\n",
    "############################\n",
    "```"
   ]
  },
  {
   "cell_type": "code",
   "execution_count": 1,
   "metadata": {},
   "outputs": [],
   "source": [
    "import numpy as np\n",
    "import pandas as pd\n",
    "import matplotlib.pyplot as plt\n",
    "import seaborn as sns\n",
    "%matplotlib inline"
   ]
  },
  {
   "cell_type": "markdown",
   "metadata": {},
   "source": [
    "<div style=\"direction:rtl; text-align:right\">\n",
    "\n",
    "# قراءة البيانات"
   ]
  },
  {
   "cell_type": "code",
   "execution_count": 2,
   "metadata": {},
   "outputs": [],
   "source": [
    "data = pd.read_csv('bike-train.csv')"
   ]
  },
  {
   "cell_type": "code",
   "execution_count": 3,
   "metadata": {},
   "outputs": [
    {
     "data": {
      "text/html": [
       "<div>\n",
       "<style scoped>\n",
       "    .dataframe tbody tr th:only-of-type {\n",
       "        vertical-align: middle;\n",
       "    }\n",
       "\n",
       "    .dataframe tbody tr th {\n",
       "        vertical-align: top;\n",
       "    }\n",
       "\n",
       "    .dataframe thead th {\n",
       "        text-align: right;\n",
       "    }\n",
       "</style>\n",
       "<table border=\"1\" class=\"dataframe\">\n",
       "  <thead>\n",
       "    <tr style=\"text-align: right;\">\n",
       "      <th></th>\n",
       "      <th>datetime</th>\n",
       "      <th>season</th>\n",
       "      <th>holiday</th>\n",
       "      <th>workingday</th>\n",
       "      <th>weather</th>\n",
       "      <th>temp</th>\n",
       "      <th>atemp</th>\n",
       "      <th>humidity</th>\n",
       "      <th>windspeed</th>\n",
       "      <th>casual</th>\n",
       "      <th>registered</th>\n",
       "      <th>count</th>\n",
       "    </tr>\n",
       "  </thead>\n",
       "  <tbody>\n",
       "    <tr>\n",
       "      <th>0</th>\n",
       "      <td>2011-01-01 00:00:00</td>\n",
       "      <td>1</td>\n",
       "      <td>0</td>\n",
       "      <td>0</td>\n",
       "      <td>1</td>\n",
       "      <td>9.84</td>\n",
       "      <td>14.395</td>\n",
       "      <td>81</td>\n",
       "      <td>0.0</td>\n",
       "      <td>3</td>\n",
       "      <td>13</td>\n",
       "      <td>16</td>\n",
       "    </tr>\n",
       "    <tr>\n",
       "      <th>1</th>\n",
       "      <td>2011-01-01 01:00:00</td>\n",
       "      <td>1</td>\n",
       "      <td>0</td>\n",
       "      <td>0</td>\n",
       "      <td>1</td>\n",
       "      <td>9.02</td>\n",
       "      <td>13.635</td>\n",
       "      <td>80</td>\n",
       "      <td>0.0</td>\n",
       "      <td>8</td>\n",
       "      <td>32</td>\n",
       "      <td>40</td>\n",
       "    </tr>\n",
       "    <tr>\n",
       "      <th>2</th>\n",
       "      <td>2011-01-01 02:00:00</td>\n",
       "      <td>1</td>\n",
       "      <td>0</td>\n",
       "      <td>0</td>\n",
       "      <td>1</td>\n",
       "      <td>9.02</td>\n",
       "      <td>13.635</td>\n",
       "      <td>80</td>\n",
       "      <td>0.0</td>\n",
       "      <td>5</td>\n",
       "      <td>27</td>\n",
       "      <td>32</td>\n",
       "    </tr>\n",
       "    <tr>\n",
       "      <th>3</th>\n",
       "      <td>2011-01-01 03:00:00</td>\n",
       "      <td>1</td>\n",
       "      <td>0</td>\n",
       "      <td>0</td>\n",
       "      <td>1</td>\n",
       "      <td>9.84</td>\n",
       "      <td>14.395</td>\n",
       "      <td>75</td>\n",
       "      <td>0.0</td>\n",
       "      <td>3</td>\n",
       "      <td>10</td>\n",
       "      <td>13</td>\n",
       "    </tr>\n",
       "    <tr>\n",
       "      <th>4</th>\n",
       "      <td>2011-01-01 04:00:00</td>\n",
       "      <td>1</td>\n",
       "      <td>0</td>\n",
       "      <td>0</td>\n",
       "      <td>1</td>\n",
       "      <td>9.84</td>\n",
       "      <td>14.395</td>\n",
       "      <td>75</td>\n",
       "      <td>0.0</td>\n",
       "      <td>0</td>\n",
       "      <td>1</td>\n",
       "      <td>1</td>\n",
       "    </tr>\n",
       "  </tbody>\n",
       "</table>\n",
       "</div>"
      ],
      "text/plain": [
       "              datetime  season  holiday  workingday  weather  temp   atemp  \\\n",
       "0  2011-01-01 00:00:00       1        0           0        1  9.84  14.395   \n",
       "1  2011-01-01 01:00:00       1        0           0        1  9.02  13.635   \n",
       "2  2011-01-01 02:00:00       1        0           0        1  9.02  13.635   \n",
       "3  2011-01-01 03:00:00       1        0           0        1  9.84  14.395   \n",
       "4  2011-01-01 04:00:00       1        0           0        1  9.84  14.395   \n",
       "\n",
       "   humidity  windspeed  casual  registered  count  \n",
       "0        81        0.0       3          13     16  \n",
       "1        80        0.0       8          32     40  \n",
       "2        80        0.0       5          27     32  \n",
       "3        75        0.0       3          10     13  \n",
       "4        75        0.0       0           1      1  "
      ]
     },
     "execution_count": 3,
     "metadata": {},
     "output_type": "execute_result"
    }
   ],
   "source": [
    "#لطباعة رأس الجدول نقوم باستخدام الأمر head\n",
    "data.head()"
   ]
  },
  {
   "cell_type": "markdown",
   "metadata": {},
   "source": [
    "<div style=\"direction:rtl; text-align:right\">\n",
    "في البداية، لنكتشف الصورة العامة لهذه البيانات. كم عدد الصفوف وكم عدد الأعمدة ؟ قم بكتابة الأوامر التي تؤدي هذه المهمة.."
   ]
  },
  {
   "cell_type": "code",
   "execution_count": 4,
   "metadata": {},
   "outputs": [
    {
     "name": "stdout",
     "output_type": "stream",
     "text": [
      "nrows:  10886  & ncols:  12\n"
     ]
    }
   ],
   "source": [
    "############################\n",
    "# عليك تعديل هذه الخانة قبل تسليم المشروع\n",
    "# YOU HAVE TO EDIT THIS CELLL\n",
    "############################\n",
    "\n",
    "nrows = data.shape[0]\n",
    "ncols = data.shape[1]\n",
    "print('nrows: ', nrows, ' & ncols: ', ncols)"
   ]
  },
  {
   "cell_type": "markdown",
   "metadata": {},
   "source": [
    "<div style=\"direction:rtl; text-align:right\">\n",
    "تمثل الصفوف قراءة البيانات لكل ساعة تقريباً خلال عامي 2011 و 2012. مع كل قراءة نجد العديد من البيانات الإضافية مثل: الموسم (season)، إجازة أم لا (holiday)، يوم عمل أم لا ؟ (workingday)، الطقس (weather)، درجة الحرارة (temp)، درجة الحرارة المحسوسة (atemp)، سرعة الرياح (windspeed)، عدد مرات الايجار من غير المسجلين (casual)، عدد مرات الايجار من المسجلين (registered)، مجموع مرات الإيجار (count)."
   ]
  },
  {
   "cell_type": "markdown",
   "metadata": {},
   "source": [
    "<div style=\"direction:rtl; text-align:right\">\n",
    "سنقوم أولا بإلقاء نظرة على \"أنواع\" البيانات وما إن كان لدينا أي بيانات مفقودة أم لا.."
   ]
  },
  {
   "cell_type": "code",
   "execution_count": 5,
   "metadata": {
    "scrolled": true
   },
   "outputs": [
    {
     "name": "stdout",
     "output_type": "stream",
     "text": [
      "<class 'pandas.core.frame.DataFrame'>\n",
      "RangeIndex: 10886 entries, 0 to 10885\n",
      "Data columns (total 12 columns):\n",
      " #   Column      Non-Null Count  Dtype  \n",
      "---  ------      --------------  -----  \n",
      " 0   datetime    10886 non-null  object \n",
      " 1   season      10886 non-null  int64  \n",
      " 2   holiday     10886 non-null  int64  \n",
      " 3   workingday  10886 non-null  int64  \n",
      " 4   weather     10886 non-null  int64  \n",
      " 5   temp        10886 non-null  float64\n",
      " 6   atemp       10886 non-null  float64\n",
      " 7   humidity    10886 non-null  int64  \n",
      " 8   windspeed   10886 non-null  float64\n",
      " 9   casual      10886 non-null  int64  \n",
      " 10  registered  10886 non-null  int64  \n",
      " 11  count       10886 non-null  int64  \n",
      "dtypes: float64(3), int64(8), object(1)\n",
      "memory usage: 1020.7+ KB\n"
     ]
    }
   ],
   "source": [
    "data.info()"
   ]
  },
  {
   "cell_type": "markdown",
   "metadata": {},
   "source": [
    "<div style=\"direction:rtl; text-align:right\">\n",
    "هنا سنقوم بإخبار باندا بأن عمود datetime هو عبارة عن متغير من نوع تاريخ/وقت حتى نقوم بتنفيذ بعض العمليات لاحقاً"
   ]
  },
  {
   "cell_type": "code",
   "execution_count": 6,
   "metadata": {},
   "outputs": [],
   "source": [
    "data['datetime'] = pd.to_datetime(data['datetime'])"
   ]
  },
  {
   "cell_type": "code",
   "execution_count": 7,
   "metadata": {},
   "outputs": [
    {
     "name": "stdout",
     "output_type": "stream",
     "text": [
      "<class 'pandas.core.frame.DataFrame'>\n",
      "RangeIndex: 10886 entries, 0 to 10885\n",
      "Data columns (total 12 columns):\n",
      " #   Column      Non-Null Count  Dtype         \n",
      "---  ------      --------------  -----         \n",
      " 0   datetime    10886 non-null  datetime64[ns]\n",
      " 1   season      10886 non-null  int64         \n",
      " 2   holiday     10886 non-null  int64         \n",
      " 3   workingday  10886 non-null  int64         \n",
      " 4   weather     10886 non-null  int64         \n",
      " 5   temp        10886 non-null  float64       \n",
      " 6   atemp       10886 non-null  float64       \n",
      " 7   humidity    10886 non-null  int64         \n",
      " 8   windspeed   10886 non-null  float64       \n",
      " 9   casual      10886 non-null  int64         \n",
      " 10  registered  10886 non-null  int64         \n",
      " 11  count       10886 non-null  int64         \n",
      "dtypes: datetime64[ns](1), float64(3), int64(8)\n",
      "memory usage: 1020.7 KB\n"
     ]
    }
   ],
   "source": [
    "data.info()"
   ]
  },
  {
   "cell_type": "markdown",
   "metadata": {},
   "source": [
    "<div style=\"direction:rtl; text-align:right\">\n",
    "لنطبع مجموع مرات الإيجار خلال أول عشرة أيام:"
   ]
  },
  {
   "cell_type": "code",
   "execution_count": 8,
   "metadata": {},
   "outputs": [
    {
     "data": {
      "text/plain": [
       "<matplotlib.axes._subplots.AxesSubplot at 0x7fa052893b80>"
      ]
     },
     "execution_count": 8,
     "metadata": {},
     "output_type": "execute_result"
    },
    {
     "data": {
      "image/png": "[encoded data removed]",
      "text/plain": [
       "<Figure size 432x288 with 1 Axes>"
      ]
     },
     "metadata": {
      "needs_background": "light"
     },
     "output_type": "display_data"
    }
   ],
   "source": [
    "data[:24*10].plot(x='datetime', y='count') # 24 hours * 10 days"
   ]
  },
  {
   "cell_type": "markdown",
   "metadata": {},
   "source": [
    "<div style=\"direction:rtl; text-align:right\">\n",
    "\n",
    "# تجهيز البيانات"
   ]
  },
  {
   "cell_type": "markdown",
   "metadata": {},
   "source": [
    "<div style=\"direction:rtl; text-align:right\">\n",
    "الخطوة الأولى في تنظيف البيانات هي في تحويل البيانات الفئوية (مثل season, holiday, weather) إلى أعمدة مستقلة. نهتم كثيراً بهذه الخطوة خصوصاً في حالة النمذجة. سنستخدم الأمر get_dummies لأداء هذه المهمة."
   ]
  },
  {
   "cell_type": "code",
   "execution_count": 9,
   "metadata": {},
   "outputs": [],
   "source": [
    "season_dummies = pd.get_dummies(data['season'], prefix='season', drop_first=False)\n",
    "data = pd.concat([data, season_dummies], axis=1) # axis =1 means add new columns\n",
    "weather_dummies = pd.get_dummies(data['weather'], prefix='weather', drop_first=False)\n",
    "data = pd.concat([data, weather_dummies], axis=1) # axis =1 means add new columns"
   ]
  },
  {
   "cell_type": "code",
   "execution_count": 10,
   "metadata": {},
   "outputs": [],
   "source": [
    "############################\n",
    "# عليك تعديل هذه الخانة قبل تسليم المشروع\n",
    "# YOU HAVE TO EDIT THIS CELLL\n",
    "############################\n",
    "\n",
    "cols_to_drop = ['weather','season', 'casual', 'registered']\n",
    "data.drop(columns=cols_to_drop, inplace=True)\n",
    "# drop columns here\n",
    "#\n"
   ]
  },
  {
   "cell_type": "markdown",
   "metadata": {},
   "source": [
    "<div style=\"direction:rtl; text-align:right\">\n",
    "الخطوة الثانية في تجهيز البيانات هي في تسوية البيانات (data scaling). وهذه الخطوة تهدف لتوحيد تباين البيانات. لاحظ أننا نقوم أولاً بحفظ المتوسط والانحراف المعياري، لكي نقوم باستخدامها لاحقاً لتسوية البيانات الجديدة."
   ]
  },
  {
   "cell_type": "code",
   "execution_count": 11,
   "metadata": {},
   "outputs": [],
   "source": [
    "quant_features = ['temp', 'humidity', 'windspeed'] # those are all numerical columns..\n",
    "scaled_features = {}\n",
    "for each in quant_features:\n",
    "    mean, std = data[each].mean(), data[each].std()\n",
    "    scaled_features[each] = [mean, std]\n",
    "    data.loc[:, each] = (data[each] - mean)/std"
   ]
  },
  {
   "cell_type": "markdown",
   "metadata": {},
   "source": [
    "<div style=\"direction:rtl; text-align:right\">\n",
    "حتى نتعرف على تأثير تسوية البيانات، سنقوم الآن بحساب المتوسط الحسابي والانحراف المعياري للأعمدة السابقة. ماذا تستنتج؟"
   ]
  },
  {
   "cell_type": "code",
   "execution_count": 12,
   "metadata": {},
   "outputs": [
    {
     "name": "stdout",
     "output_type": "stream",
     "text": [
      "mean of temp is 1.1189428545540056e-14 and the standard deviation is 1.000000000000019\n",
      "mean of humidity is -1.423677963646415e-16 and the standard deviation is 0.9999999999999879\n",
      "mean of windspeed is -4.8258506628015964e-14 and the standard deviation is 1.0000000000000226\n"
     ]
    }
   ],
   "source": [
    "############################\n",
    "# عليك تعديل هذه الخانة قبل تسليم المشروع\n",
    "# YOU HAVE TO EDIT THIS CELLL\n",
    "############################\n",
    "\n",
    "for col in quant_features:\n",
    "    mean = data[col].mean()\n",
    "    std  = data[col].std()\n",
    "    print('mean of {} is {} and the standard deviation is {}'.format(col, mean, std))"
   ]
  },
  {
   "cell_type": "code",
   "execution_count": 13,
   "metadata": {},
   "outputs": [
    {
     "data": {
      "text/html": [
       "<div>\n",
       "<style scoped>\n",
       "    .dataframe tbody tr th:only-of-type {\n",
       "        vertical-align: middle;\n",
       "    }\n",
       "\n",
       "    .dataframe tbody tr th {\n",
       "        vertical-align: top;\n",
       "    }\n",
       "\n",
       "    .dataframe thead th {\n",
       "        text-align: right;\n",
       "    }\n",
       "</style>\n",
       "<table border=\"1\" class=\"dataframe\">\n",
       "  <thead>\n",
       "    <tr style=\"text-align: right;\">\n",
       "      <th></th>\n",
       "      <th>datetime</th>\n",
       "      <th>holiday</th>\n",
       "      <th>workingday</th>\n",
       "      <th>temp</th>\n",
       "      <th>atemp</th>\n",
       "      <th>humidity</th>\n",
       "      <th>windspeed</th>\n",
       "      <th>count</th>\n",
       "      <th>season_1</th>\n",
       "      <th>season_2</th>\n",
       "      <th>season_3</th>\n",
       "      <th>season_4</th>\n",
       "      <th>weather_1</th>\n",
       "      <th>weather_2</th>\n",
       "      <th>weather_3</th>\n",
       "      <th>weather_4</th>\n",
       "    </tr>\n",
       "  </thead>\n",
       "  <tbody>\n",
       "    <tr>\n",
       "      <th>0</th>\n",
       "      <td>2011-01-01 00:00:00</td>\n",
       "      <td>0</td>\n",
       "      <td>0</td>\n",
       "      <td>-1.333599</td>\n",
       "      <td>14.395</td>\n",
       "      <td>0.993167</td>\n",
       "      <td>-1.567682</td>\n",
       "      <td>16</td>\n",
       "      <td>1</td>\n",
       "      <td>0</td>\n",
       "      <td>0</td>\n",
       "      <td>0</td>\n",
       "      <td>1</td>\n",
       "      <td>0</td>\n",
       "      <td>0</td>\n",
       "      <td>0</td>\n",
       "    </tr>\n",
       "    <tr>\n",
       "      <th>1</th>\n",
       "      <td>2011-01-01 01:00:00</td>\n",
       "      <td>0</td>\n",
       "      <td>0</td>\n",
       "      <td>-1.438841</td>\n",
       "      <td>13.635</td>\n",
       "      <td>0.941206</td>\n",
       "      <td>-1.567682</td>\n",
       "      <td>40</td>\n",
       "      <td>1</td>\n",
       "      <td>0</td>\n",
       "      <td>0</td>\n",
       "      <td>0</td>\n",
       "      <td>1</td>\n",
       "      <td>0</td>\n",
       "      <td>0</td>\n",
       "      <td>0</td>\n",
       "    </tr>\n",
       "    <tr>\n",
       "      <th>2</th>\n",
       "      <td>2011-01-01 02:00:00</td>\n",
       "      <td>0</td>\n",
       "      <td>0</td>\n",
       "      <td>-1.438841</td>\n",
       "      <td>13.635</td>\n",
       "      <td>0.941206</td>\n",
       "      <td>-1.567682</td>\n",
       "      <td>32</td>\n",
       "      <td>1</td>\n",
       "      <td>0</td>\n",
       "      <td>0</td>\n",
       "      <td>0</td>\n",
       "      <td>1</td>\n",
       "      <td>0</td>\n",
       "      <td>0</td>\n",
       "      <td>0</td>\n",
       "    </tr>\n",
       "    <tr>\n",
       "      <th>3</th>\n",
       "      <td>2011-01-01 03:00:00</td>\n",
       "      <td>0</td>\n",
       "      <td>0</td>\n",
       "      <td>-1.333599</td>\n",
       "      <td>14.395</td>\n",
       "      <td>0.681399</td>\n",
       "      <td>-1.567682</td>\n",
       "      <td>13</td>\n",
       "      <td>1</td>\n",
       "      <td>0</td>\n",
       "      <td>0</td>\n",
       "      <td>0</td>\n",
       "      <td>1</td>\n",
       "      <td>0</td>\n",
       "      <td>0</td>\n",
       "      <td>0</td>\n",
       "    </tr>\n",
       "    <tr>\n",
       "      <th>4</th>\n",
       "      <td>2011-01-01 04:00:00</td>\n",
       "      <td>0</td>\n",
       "      <td>0</td>\n",
       "      <td>-1.333599</td>\n",
       "      <td>14.395</td>\n",
       "      <td>0.681399</td>\n",
       "      <td>-1.567682</td>\n",
       "      <td>1</td>\n",
       "      <td>1</td>\n",
       "      <td>0</td>\n",
       "      <td>0</td>\n",
       "      <td>0</td>\n",
       "      <td>1</td>\n",
       "      <td>0</td>\n",
       "      <td>0</td>\n",
       "      <td>0</td>\n",
       "    </tr>\n",
       "  </tbody>\n",
       "</table>\n",
       "</div>"
      ],
      "text/plain": [
       "             datetime  holiday  workingday      temp   atemp  humidity  \\\n",
       "0 2011-01-01 00:00:00        0           0 -1.333599  14.395  0.993167   \n",
       "1 2011-01-01 01:00:00        0           0 -1.438841  13.635  0.941206   \n",
       "2 2011-01-01 02:00:00        0           0 -1.438841  13.635  0.941206   \n",
       "3 2011-01-01 03:00:00        0           0 -1.333599  14.395  0.681399   \n",
       "4 2011-01-01 04:00:00        0           0 -1.333599  14.395  0.681399   \n",
       "\n",
       "   windspeed  count  season_1  season_2  season_3  season_4  weather_1  \\\n",
       "0  -1.567682     16         1         0         0         0          1   \n",
       "1  -1.567682     40         1         0         0         0          1   \n",
       "2  -1.567682     32         1         0         0         0          1   \n",
       "3  -1.567682     13         1         0         0         0          1   \n",
       "4  -1.567682      1         1         0         0         0          1   \n",
       "\n",
       "   weather_2  weather_3  weather_4  \n",
       "0          0          0          0  \n",
       "1          0          0          0  \n",
       "2          0          0          0  \n",
       "3          0          0          0  \n",
       "4          0          0          0  "
      ]
     },
     "execution_count": 13,
     "metadata": {},
     "output_type": "execute_result"
    }
   ],
   "source": [
    "data.head()"
   ]
  },
  {
   "cell_type": "markdown",
   "metadata": {},
   "source": [
    "<div style=\"direction:rtl; text-align:right\">\n",
    "أخيرا، الخطوة الثالثة هي في استخراج البيانات التاريخية مثل الساعة واليوم والشهر والسنة. كل هذا ممكن باستخدام أوامر مكتبة الباندا."
   ]
  },
  {
   "cell_type": "code",
   "execution_count": 14,
   "metadata": {},
   "outputs": [],
   "source": [
    "data['hour'] = data['datetime'].dt.hour\n",
    "data['day'] = data['datetime'].dt.day\n",
    "data['month'] = data['datetime'].dt.month"
   ]
  },
  {
   "cell_type": "markdown",
   "metadata": {},
   "source": [
    "<div style=\"direction:rtl; text-align:right\">\n",
    "ثم نقوم بحذف العمود الأصلي للوقت والتاريخ بعد استخراج المعلومات المفيدة منه."
   ]
  },
  {
   "cell_type": "code",
   "execution_count": 15,
   "metadata": {},
   "outputs": [],
   "source": [
    "############################\n",
    "# عليك تعديل هذه الخانة قبل تسليم المشروع\n",
    "# YOU HAVE TO EDIT THIS CELLL\n",
    "############################\n",
    "\n",
    "col_to_delete = ['datetime']\n",
    "del data['datetime']\n",
    "# DELETE COLUMN NOW"
   ]
  },
  {
   "cell_type": "code",
   "execution_count": 16,
   "metadata": {
    "scrolled": true
   },
   "outputs": [
    {
     "data": {
      "text/html": [
       "<div>\n",
       "<style scoped>\n",
       "    .dataframe tbody tr th:only-of-type {\n",
       "        vertical-align: middle;\n",
       "    }\n",
       "\n",
       "    .dataframe tbody tr th {\n",
       "        vertical-align: top;\n",
       "    }\n",
       "\n",
       "    .dataframe thead th {\n",
       "        text-align: right;\n",
       "    }\n",
       "</style>\n",
       "<table border=\"1\" class=\"dataframe\">\n",
       "  <thead>\n",
       "    <tr style=\"text-align: right;\">\n",
       "      <th></th>\n",
       "      <th>holiday</th>\n",
       "      <th>workingday</th>\n",
       "      <th>temp</th>\n",
       "      <th>atemp</th>\n",
       "      <th>humidity</th>\n",
       "      <th>windspeed</th>\n",
       "      <th>count</th>\n",
       "      <th>season_1</th>\n",
       "      <th>season_2</th>\n",
       "      <th>season_3</th>\n",
       "      <th>season_4</th>\n",
       "      <th>weather_1</th>\n",
       "      <th>weather_2</th>\n",
       "      <th>weather_3</th>\n",
       "      <th>weather_4</th>\n",
       "      <th>hour</th>\n",
       "      <th>day</th>\n",
       "      <th>month</th>\n",
       "    </tr>\n",
       "  </thead>\n",
       "  <tbody>\n",
       "    <tr>\n",
       "      <th>0</th>\n",
       "      <td>0</td>\n",
       "      <td>0</td>\n",
       "      <td>-1.333599</td>\n",
       "      <td>14.395</td>\n",
       "      <td>0.993167</td>\n",
       "      <td>-1.567682</td>\n",
       "      <td>16</td>\n",
       "      <td>1</td>\n",
       "      <td>0</td>\n",
       "      <td>0</td>\n",
       "      <td>0</td>\n",
       "      <td>1</td>\n",
       "      <td>0</td>\n",
       "      <td>0</td>\n",
       "      <td>0</td>\n",
       "      <td>0</td>\n",
       "      <td>1</td>\n",
       "      <td>1</td>\n",
       "    </tr>\n",
       "    <tr>\n",
       "      <th>1</th>\n",
       "      <td>0</td>\n",
       "      <td>0</td>\n",
       "      <td>-1.438841</td>\n",
       "      <td>13.635</td>\n",
       "      <td>0.941206</td>\n",
       "      <td>-1.567682</td>\n",
       "      <td>40</td>\n",
       "      <td>1</td>\n",
       "      <td>0</td>\n",
       "      <td>0</td>\n",
       "      <td>0</td>\n",
       "      <td>1</td>\n",
       "      <td>0</td>\n",
       "      <td>0</td>\n",
       "      <td>0</td>\n",
       "      <td>1</td>\n",
       "      <td>1</td>\n",
       "      <td>1</td>\n",
       "    </tr>\n",
       "    <tr>\n",
       "      <th>2</th>\n",
       "      <td>0</td>\n",
       "      <td>0</td>\n",
       "      <td>-1.438841</td>\n",
       "      <td>13.635</td>\n",
       "      <td>0.941206</td>\n",
       "      <td>-1.567682</td>\n",
       "      <td>32</td>\n",
       "      <td>1</td>\n",
       "      <td>0</td>\n",
       "      <td>0</td>\n",
       "      <td>0</td>\n",
       "      <td>1</td>\n",
       "      <td>0</td>\n",
       "      <td>0</td>\n",
       "      <td>0</td>\n",
       "      <td>2</td>\n",
       "      <td>1</td>\n",
       "      <td>1</td>\n",
       "    </tr>\n",
       "    <tr>\n",
       "      <th>3</th>\n",
       "      <td>0</td>\n",
       "      <td>0</td>\n",
       "      <td>-1.333599</td>\n",
       "      <td>14.395</td>\n",
       "      <td>0.681399</td>\n",
       "      <td>-1.567682</td>\n",
       "      <td>13</td>\n",
       "      <td>1</td>\n",
       "      <td>0</td>\n",
       "      <td>0</td>\n",
       "      <td>0</td>\n",
       "      <td>1</td>\n",
       "      <td>0</td>\n",
       "      <td>0</td>\n",
       "      <td>0</td>\n",
       "      <td>3</td>\n",
       "      <td>1</td>\n",
       "      <td>1</td>\n",
       "    </tr>\n",
       "    <tr>\n",
       "      <th>4</th>\n",
       "      <td>0</td>\n",
       "      <td>0</td>\n",
       "      <td>-1.333599</td>\n",
       "      <td>14.395</td>\n",
       "      <td>0.681399</td>\n",
       "      <td>-1.567682</td>\n",
       "      <td>1</td>\n",
       "      <td>1</td>\n",
       "      <td>0</td>\n",
       "      <td>0</td>\n",
       "      <td>0</td>\n",
       "      <td>1</td>\n",
       "      <td>0</td>\n",
       "      <td>0</td>\n",
       "      <td>0</td>\n",
       "      <td>4</td>\n",
       "      <td>1</td>\n",
       "      <td>1</td>\n",
       "    </tr>\n",
       "  </tbody>\n",
       "</table>\n",
       "</div>"
      ],
      "text/plain": [
       "   holiday  workingday      temp   atemp  humidity  windspeed  count  \\\n",
       "0        0           0 -1.333599  14.395  0.993167  -1.567682     16   \n",
       "1        0           0 -1.438841  13.635  0.941206  -1.567682     40   \n",
       "2        0           0 -1.438841  13.635  0.941206  -1.567682     32   \n",
       "3        0           0 -1.333599  14.395  0.681399  -1.567682     13   \n",
       "4        0           0 -1.333599  14.395  0.681399  -1.567682      1   \n",
       "\n",
       "   season_1  season_2  season_3  season_4  weather_1  weather_2  weather_3  \\\n",
       "0         1         0         0         0          1          0          0   \n",
       "1         1         0         0         0          1          0          0   \n",
       "2         1         0         0         0          1          0          0   \n",
       "3         1         0         0         0          1          0          0   \n",
       "4         1         0         0         0          1          0          0   \n",
       "\n",
       "   weather_4  hour  day  month  \n",
       "0          0     0    1      1  \n",
       "1          0     1    1      1  \n",
       "2          0     2    1      1  \n",
       "3          0     3    1      1  \n",
       "4          0     4    1      1  "
      ]
     },
     "execution_count": 16,
     "metadata": {},
     "output_type": "execute_result"
    }
   ],
   "source": [
    "data.head()"
   ]
  },
  {
   "cell_type": "markdown",
   "metadata": {},
   "source": [
    "<div style=\"direction:rtl; text-align:right\">\n",
    "سنقوم الآن بإعداد رسوم بيانية بسيطة لمتوسط عدد مرات الإيجار بالساعة وبالشهر. لإعداد هذه الرسوم، سنقوم أولاً بتلخيص البيانات باستخدام groupby ومن ثم رسم البيانات باستخدام plot:"
   ]
  },
  {
   "cell_type": "code",
   "execution_count": 17,
   "metadata": {},
   "outputs": [],
   "source": [
    "count_per_hour = data.groupby('hour')['count'].mean()"
   ]
  },
  {
   "cell_type": "code",
   "execution_count": 18,
   "metadata": {},
   "outputs": [
    {
     "data": {
      "text/plain": [
       "hour\n",
       "0    55.138462\n",
       "1    33.859031\n",
       "2    22.899554\n",
       "3    11.757506\n",
       "4     6.407240\n",
       "Name: count, dtype: float64"
      ]
     },
     "execution_count": 18,
     "metadata": {},
     "output_type": "execute_result"
    }
   ],
   "source": [
    "count_per_hour.head()"
   ]
  },
  {
   "cell_type": "code",
   "execution_count": 19,
   "metadata": {},
   "outputs": [
    {
     "data": {
      "text/plain": [
       "<matplotlib.axes._subplots.AxesSubplot at 0x7fa0564ba280>"
      ]
     },
     "execution_count": 19,
     "metadata": {},
     "output_type": "execute_result"
    },
    {
     "data": {
      "image/png": "[encoded data removed]",
      "text/plain": [
       "<Figure size 432x288 with 1 Axes>"
      ]
     },
     "metadata": {
      "needs_background": "light"
     },
     "output_type": "display_data"
    }
   ],
   "source": [
    "count_per_hour.plot(kind='bar')\n",
    "\n",
    "#or..\n",
    "#count_per_hour.plot.bar()"
   ]
  },
  {
   "cell_type": "markdown",
   "metadata": {},
   "source": [
    "<div style=\"direction:rtl; text-align:right\">\n",
    "سنقوم الآن برسم مرات الإيجار حسب الشهر (month)."
   ]
  },
  {
   "cell_type": "code",
   "execution_count": 20,
   "metadata": {},
   "outputs": [
    {
     "data": {
      "text/plain": [
       "<matplotlib.axes._subplots.AxesSubplot at 0x7fa0566f78e0>"
      ]
     },
     "execution_count": 20,
     "metadata": {},
     "output_type": "execute_result"
    },
    {
     "data": {
      "image/png": "[encoded data removed]",
      "text/plain": [
       "<Figure size 432x288 with 1 Axes>"
      ]
     },
     "metadata": {
      "needs_background": "light"
     },
     "output_type": "display_data"
    }
   ],
   "source": [
    "############################\n",
    "# عليك تعديل هذه الخانة قبل تسليم المشروع\n",
    "# YOU HAVE TO EDIT THIS CELLL\n",
    "############################\n",
    "\n",
    "count_per_month = data.groupby('month')['count'].mean()\n",
    "count_per_month.plot(kind='bar')"
   ]
  },
  {
   "cell_type": "markdown",
   "metadata": {},
   "source": [
    "<div style=\"direction:rtl; text-align:right\">\n",
    "\n",
    "# نمذجة البيانات"
   ]
  },
  {
   "cell_type": "markdown",
   "metadata": {},
   "source": [
    "<div style=\"direction:rtl; text-align:right\">\n",
    "سنقوم الآن بأول محاولة لنمذجة البيانات باستخدام ما يعرف بالانحدار الخطي (Linear Regression). ولكن قبل ذلك، سنقوم بتقسيم البيانات إلى بيانات للتدريب وبيانات للاختبار ومن ثم نمذجة البيانات واستخدام النموذج لتوقع مقدار الطلب على استئجار الدرجات الهوائية في بيانات جديدة ومن ثم تسليم التوقعات إلى موقع كاقل."
   ]
  },
  {
   "cell_type": "code",
   "execution_count": 21,
   "metadata": {
    "scrolled": true
   },
   "outputs": [],
   "source": [
    "from sklearn.tree import DecisionTreeRegressor\n",
    "from sklearn.model_selection import cross_val_score"
   ]
  },
  {
   "cell_type": "markdown",
   "metadata": {},
   "source": [
    "<div style=\"direction:rtl; text-align:right\">\n",
    "أسهل وأسرع طريقة لمعرفة أداء النموذج هي باستخدام الأمر cross_val_score حيث يقوم هذا الأمر بتقسيم البيانات إلى بيانات تدريب وبيانات اختار باستخدام التحقق المتقاطع ومن ثم إجراء النمذجة بدون أي حاجة للتدخل. بعد ذلك، سنقوم بطباعة معدل الخطأ لنعرف بشكل عام عن متوسط أداء النموذج قبل تطبيقه على بيانات جديدة. سنتعرف بشكل مفصل على أساليب التحقق من النماذج لاحقاً:"
   ]
  },
  {
   "cell_type": "code",
   "execution_count": 22,
   "metadata": {},
   "outputs": [],
   "source": [
    "features = ['holiday', 'workingday', 'temp', 'atemp', 'humidity', 'windspeed', 'season_1', 'season_2', 'season_3', 'season_4', 'weather_1', 'weather_2', 'weather_3', 'weather_4', 'hour', 'day', 'month']"
   ]
  },
  {
   "cell_type": "code",
   "execution_count": 23,
   "metadata": {},
   "outputs": [],
   "source": [
    "target = ['count']"
   ]
  },
  {
   "cell_type": "code",
   "execution_count": 24,
   "metadata": {
    "scrolled": true
   },
   "outputs": [],
   "source": [
    "scores = cross_val_score(X=data[features],\n",
    "                         y=data[target].values, \n",
    "                         estimator=DecisionTreeRegressor(),\n",
    "                         scoring='neg_mean_squared_error',\n",
    "                         cv=5)"
   ]
  },
  {
   "cell_type": "code",
   "execution_count": 25,
   "metadata": {
    "scrolled": true
   },
   "outputs": [
    {
     "data": {
      "text/plain": [
       "-18199.920578145426"
      ]
     },
     "execution_count": 25,
     "metadata": {},
     "output_type": "execute_result"
    }
   ],
   "source": [
    "scores.mean()"
   ]
  },
  {
   "cell_type": "code",
   "execution_count": 26,
   "metadata": {},
   "outputs": [
    {
     "data": {
      "text/plain": [
       "DecisionTreeRegressor()"
      ]
     },
     "execution_count": 26,
     "metadata": {},
     "output_type": "execute_result"
    }
   ],
   "source": [
    "model = DecisionTreeRegressor()\n",
    "model.fit(data[features], data[target])"
   ]
  },
  {
   "cell_type": "markdown",
   "metadata": {},
   "source": [
    "<div style=\"direction:rtl; text-align:right\">\n",
    "\n",
    "# تسليم المشروع"
   ]
  },
  {
   "cell_type": "markdown",
   "metadata": {},
   "source": [
    "<div style=\"direction:rtl; text-align:right\">\n",
    "تسليم هذا المشروع على مرحلتين: الأولى هي في تسليم الملف إلى موقع كاقل ومن ثم مشاركة صورة توضح التسليم، والمرحلة الثانية هي باستكمال الخانات التي تحتاج إلى إكمال ومن ثم تسليم المشروع إلى الموقع."
   ]
  },
  {
   "cell_type": "markdown",
   "metadata": {},
   "source": [
    "<div style=\"direction:rtl; text-align:right\">\n",
    "في كاقل، ستأتينا بيانات الاختبار، وهو جدول آخر فيه كل الأعمدة ما عدا عدد مرات الإيجار. ومهمتنا هي في استخدام بيانات التدريب لتوقع بيانات الاختبار، ومن ثم تسليم الحل إلى موقع كاقل لنرى كيف كان الأداء. لفعل ذلك، سنقوم بالتأكد من أننا نفذها جميع الخطوات السابقة في بيانات الاختبار كذلك."
   ]
  },
  {
   "cell_type": "code",
   "execution_count": 27,
   "metadata": {},
   "outputs": [],
   "source": [
    "test = pd.read_csv('bike-test.csv')\n",
    "test['datetime'] = pd.to_datetime(test['datetime'])\n",
    "season_dummies = pd.get_dummies(test['season'], prefix='season', drop_first=False)\n",
    "test = pd.concat([test, season_dummies], axis=1) # axis =1 means add new columns\n",
    "weather_dummies = pd.get_dummies(test['weather'], prefix='weather', drop_first=False)\n",
    "test = pd.concat([test, weather_dummies], axis=1) # axis =1 means add new columns\n",
    "for each in quant_features:\n",
    "    data.loc[:, each] = (data[each] - scaled_features[each][0]) / scaled_features[each][1]\n",
    "test['hour'] = test['datetime'].dt.hour\n",
    "test['day'] = test['datetime'].dt.day\n",
    "test['month'] = test['datetime'].dt.month"
   ]
  },
  {
   "cell_type": "markdown",
   "metadata": {},
   "source": [
    "<div style=\"direction:rtl; text-align:right\">\n",
    "وهنا سنقوم باستخدام النموذج السابق لتوقع مرات الإيجار في بيانات الاختبار:"
   ]
  },
  {
   "cell_type": "code",
   "execution_count": 28,
   "metadata": {},
   "outputs": [],
   "source": [
    "predictions = model.predict(test[features])"
   ]
  },
  {
   "cell_type": "code",
   "execution_count": 29,
   "metadata": {},
   "outputs": [],
   "source": [
    "test['count'] = predictions"
   ]
  },
  {
   "cell_type": "code",
   "execution_count": 30,
   "metadata": {},
   "outputs": [
    {
     "data": {
      "text/html": [
       "<div>\n",
       "<style scoped>\n",
       "    .dataframe tbody tr th:only-of-type {\n",
       "        vertical-align: middle;\n",
       "    }\n",
       "\n",
       "    .dataframe tbody tr th {\n",
       "        vertical-align: top;\n",
       "    }\n",
       "\n",
       "    .dataframe thead th {\n",
       "        text-align: right;\n",
       "    }\n",
       "</style>\n",
       "<table border=\"1\" class=\"dataframe\">\n",
       "  <thead>\n",
       "    <tr style=\"text-align: right;\">\n",
       "      <th></th>\n",
       "      <th>datetime</th>\n",
       "      <th>count</th>\n",
       "    </tr>\n",
       "  </thead>\n",
       "  <tbody>\n",
       "    <tr>\n",
       "      <th>0</th>\n",
       "      <td>2011-01-20 00:00:00</td>\n",
       "      <td>15.0</td>\n",
       "    </tr>\n",
       "    <tr>\n",
       "      <th>1</th>\n",
       "      <td>2011-01-20 01:00:00</td>\n",
       "      <td>1.0</td>\n",
       "    </tr>\n",
       "    <tr>\n",
       "      <th>2</th>\n",
       "      <td>2011-01-20 02:00:00</td>\n",
       "      <td>4.0</td>\n",
       "    </tr>\n",
       "    <tr>\n",
       "      <th>3</th>\n",
       "      <td>2011-01-20 03:00:00</td>\n",
       "      <td>1.0</td>\n",
       "    </tr>\n",
       "    <tr>\n",
       "      <th>4</th>\n",
       "      <td>2011-01-20 04:00:00</td>\n",
       "      <td>1.0</td>\n",
       "    </tr>\n",
       "  </tbody>\n",
       "</table>\n",
       "</div>"
      ],
      "text/plain": [
       "             datetime  count\n",
       "0 2011-01-20 00:00:00   15.0\n",
       "1 2011-01-20 01:00:00    1.0\n",
       "2 2011-01-20 02:00:00    4.0\n",
       "3 2011-01-20 03:00:00    1.0\n",
       "4 2011-01-20 04:00:00    1.0"
      ]
     },
     "execution_count": 30,
     "metadata": {},
     "output_type": "execute_result"
    }
   ],
   "source": [
    "test[['datetime', 'count']].head()"
   ]
  },
  {
   "cell_type": "markdown",
   "metadata": {},
   "source": [
    "<div style=\"direction:rtl; text-align:right\">\n",
    "الآن سنقوم بكتابة الملف حتى نقوم بتسليمها إلى كاقل. بعد كتابة الملف، اذهب إلى المسابقة في موقع كاقل، وسلم هذا الملف."
   ]
  },
  {
   "cell_type": "code",
   "execution_count": 31,
   "metadata": {},
   "outputs": [],
   "source": [
    "test[['datetime', 'count']].to_csv('submission.csv', index=False)"
   ]
  },
  {
   "cell_type": "markdown",
   "metadata": {},
   "source": [
    "<div style=\"direction:rtl; text-align:right\">\n",
    "في نهاية هذا المشروع، نتمنى أن تكون لدينا فكرة أوضح عما نفعله في علم البيانات: قراءة البيانات ثم تنظيف البيانات، ثم إجراء الاكتشاف الأولي للبيانات وبعد ذلك نقوم بنمذجة البيانات وتقييم النموذج. سنتعلم لاحقاً المزيد عن كل من هذه الخطوات."
   ]
  },
  {
   "cell_type": "markdown",
   "metadata": {},
   "source": [
    "<div style=\"direction:rtl; text-align:right\">\n",
    "إذا لم تكن راضيا عن أداء هذا النموذج، ندعوك إلى إلقاء نظرة على موقع كاقل والتعرف على الطرق المختلفة لتنظيف البيانات ورسم البيانات:"
   ]
  },
  {
   "cell_type": "markdown",
   "metadata": {},
   "source": [
    "- https://www.kaggle.com/c/bike-sharing-demand/kernels"
   ]
  }
 ],
 "metadata": {
  "kernelspec": {
   "display_name": "Python 3",
   "language": "python",
   "name": "python3"
  },
  "language_info": {
   "codemirror_mode": {
    "name": "ipython",
    "version": 3
   },
   "file_extension": ".py",
   "mimetype": "text/x-python",
   "name": "python",
   "nbconvert_exporter": "python",
   "pygments_lexer": "ipython3",
   "version": "3.8.3"
  }
 },
 "nbformat": 4,
 "nbformat_minor": 2
}
